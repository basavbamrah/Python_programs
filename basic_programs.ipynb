{
  "nbformat": 4,
  "nbformat_minor": 0,
  "metadata": {
    "colab": {
      "name": "EH_Assignment1.ipynb",
      "provenance": [],
      "collapsed_sections": []
    },
    "kernelspec": {
      "name": "python3",
      "display_name": "Python 3.9.5 64-bit"
    },
    "language_info": {
      "name": "python",
      "version": "3.9.5",
      "mimetype": "text/x-python",
      "codemirror_mode": {
        "name": "ipython",
        "version": 3
      },
      "pygments_lexer": "ipython3",
      "nbconvert_exporter": "python",
      "file_extension": ".py"
    },
    "interpreter": {
      "hash": "36cf16204b8548560b1c020c4e8fb5b57f0e4c58016f52f2d4be01e192833930"
    }
  },
  "cells": [
    {
      "cell_type": "markdown",
      "metadata": {
        "id": "nXvrpPtUg6wS"
      },
      "source": [
        "**1. Python program for armstrong number**"
      ]
    },
    {
      "cell_type": "code",
      "metadata": {
        "colab": {
          "base_uri": "https://localhost:8080/"
        },
        "id": "wtqpKeb4g6Rp",
        "outputId": "9c98dedd-4f9b-4871-e464-4e9bfec60087"
      },
      "source": [
        "import math as m\n",
        "n = input(\"Enter a number:\")\n",
        "l = len(n)\n",
        "sum=0\n",
        "for i in n:\n",
        "  sum += int(m.pow(int(i),l))\n",
        "\n",
        "if sum == int(n):\n",
        "  print(\"{} is an Armstrong Number: \".format(n))\n",
        "else :\n",
        "  print(\"{} is not an Armstrong Number: \".format(n))"
      ],
      "execution_count": 1,
      "outputs": [
        {
          "output_type": "stream",
          "name": "stdout",
          "text": [
            "Enter a number:153\n",
            "153 is an Armstrong Number: \n"
          ]
        }
      ]
    },
    {
      "cell_type": "markdown",
      "metadata": {
        "id": "ec5dYafOjYLt"
      },
      "source": [
        "**2. Python program to print factorial of a number**"
      ]
    },
    {
      "cell_type": "code",
      "metadata": {
        "colab": {
          "base_uri": "https://localhost:8080/"
        },
        "id": "WKHPZ6RLjgr1",
        "outputId": "e5f3ebe9-c948-4340-97e6-591aedea72a7"
      },
      "source": [
        "n= int(input(\"Enter a number: \"))\n",
        "f=1\n",
        "for i in range(1,n+1):\n",
        "  f*=i\n",
        "print(\"Factorial of {} is {}\".format(n, f))"
      ],
      "execution_count": 2,
      "outputs": [
        {
          "output_type": "stream",
          "name": "stdout",
          "text": [
            "Enter a number: 5\n",
            "Factorial of 5 is 120\n"
          ]
        }
      ]
    },
    {
      "cell_type": "markdown",
      "metadata": {
        "id": "j3KLpyyCkA1I"
      },
      "source": [
        "**3. Python program to print positive number in a list**"
      ]
    },
    {
      "cell_type": "code",
      "metadata": {
        "colab": {
          "base_uri": "https://localhost:8080/"
        },
        "id": "E4und53xkhIZ",
        "outputId": "8102f73b-ea0a-42ee-eda3-19da72951eef"
      },
      "source": [
        "lst=[]\n",
        "print(\"Enter 5 numbers: \")\n",
        "for i in range(5):\n",
        "  lst.append(int(input()))\n",
        "print(\"Positive numbers are: \")\n",
        "for i in lst:\n",
        "  if i>0:\n",
        "    print(i)\n",
        "\n"
      ],
      "execution_count": 3,
      "outputs": [
        {
          "output_type": "stream",
          "name": "stdout",
          "text": [
            "Enter 5 numbers: \n",
            "-1\n",
            "5\n",
            "6\n",
            "-99\n",
            "55\n",
            "Positive numbers are: \n",
            "5\n",
            "6\n",
            "55\n"
          ]
        }
      ]
    },
    {
      "cell_type": "markdown",
      "metadata": {
        "id": "wtex-uxnm2KE"
      },
      "source": [
        "**4. Python program to find sum of number digit in list**"
      ]
    },
    {
      "cell_type": "code",
      "metadata": {
        "colab": {
          "base_uri": "https://localhost:8080/"
        },
        "id": "Kh6fF9KrnLDt",
        "outputId": "eaaf2c09-b924-4744-a5df-76a9474987e0"
      },
      "source": [
        "lst1 = list(map(int,input(\"Enter 5 numbers: \").split()))\n",
        "sum=0\n",
        "sm=[]\n",
        "\n",
        "for i in lst1:\n",
        "  x= str(i)\n",
        "  for j in x:\n",
        "    sum+= int(j)\n",
        "  sm.append(sum)\n",
        "  sum=0\n",
        "\n",
        "print(\"sum of digits of each number is: \")\n",
        "for i in range(len(lst1)):\n",
        "  print(lst1[i],\" : \",sm[i])"
      ],
      "execution_count": 4,
      "outputs": [
        {
          "output_type": "stream",
          "name": "stdout",
          "text": [
            "Enter 5 numbers: 88 99 55 15235 5\n",
            "sum of digits of each number is: \n",
            "88  :  16\n",
            "99  :  18\n",
            "55  :  10\n",
            "15235  :  16\n",
            "5  :  5\n"
          ]
        }
      ]
    },
    {
      "cell_type": "markdown",
      "metadata": {
        "id": "RIv8tPeUPLxz"
      },
      "source": [
        "**5. Python program to check if a number is Prime or not** "
      ]
    },
    {
      "cell_type": "code",
      "metadata": {
        "colab": {
          "base_uri": "https://localhost:8080/"
        },
        "id": "LfQzlsKOPmXx",
        "outputId": "0162690f-5676-4fd0-87f7-b7344d2df359"
      },
      "source": [
        "n= int(input(\"Enter a number: \"))\n",
        "f=0\n",
        "for i in range(2,n):\n",
        "  if n%i== 0:\n",
        "    print (\"{} is not a prime number\".format(n))\n",
        "    f=1\n",
        "    break\n",
        "  \n",
        "if f==0:\n",
        "    print(\"{} is a prime number\".format(n))"
      ],
      "execution_count": 5,
      "outputs": [
        {
          "output_type": "stream",
          "name": "stdout",
          "text": [
            "Enter a number: 5\n",
            "5 is a prime number\n"
          ]
        }
      ]
    },
    {
      "cell_type": "markdown",
      "metadata": {
        "id": "NuLyf9D7QmJM"
      },
      "source": [
        "**6. Python program to print even number in a list**"
      ]
    },
    {
      "cell_type": "code",
      "metadata": {
        "id": "uPBw7sT2Q2KT"
      },
      "source": [
        "l1=list(map(int,input(\"Enter 5 numbers \").split()))\n",
        "l1= l1[:5]\n",
        "print(\"list is: \",l1)\n",
        "for i in l1:\n",
        "  if i% 2 == 0:\n",
        "    print(i)"
      ],
      "execution_count": null,
      "outputs": []
    },
    {
      "cell_type": "markdown",
      "metadata": {
        "id": "MQNPsZuqS0cS"
      },
      "source": [
        "**7. Python program to find max. frequency character in string**"
      ]
    },
    {
      "cell_type": "code",
      "metadata": {
        "colab": {
          "base_uri": "https://localhost:8080/"
        },
        "id": "84efqXmkSz64",
        "outputId": "0d6c1fbd-0b19-4d47-dfed-891179aee1aa"
      },
      "source": [
        "str1=input(\"Enter a string: \")\n",
        "c=0\n",
        "print(\"Input string is: \",str1)\n",
        "dic={}\n",
        "for i in str1:\n",
        "  c=0\n",
        "  for j in str1:\n",
        "    if i==j :\n",
        "      c+=1\n",
        "  dic[i]=c\n",
        "m=0\n",
        "for key in dic.keys():\n",
        "  if m < dic[key]:\n",
        "    m= dic[key]\n",
        "\n",
        "for key,value in dic.items():\n",
        "  if value == m:\n",
        "    print( key, ':' ,value)\n",
        "\n"
      ],
      "execution_count": 7,
      "outputs": [
        {
          "output_type": "stream",
          "name": "stdout",
          "text": [
            "Enter a string: hello world\n",
            "Input string is:  hello world\n",
            "l : 3\n"
          ]
        }
      ]
    },
    {
      "cell_type": "markdown",
      "metadata": {
        "id": "RHKi76Qhc-IC"
      },
      "source": [
        "**8. Python program to count occurrences of an element in list**"
      ]
    },
    {
      "cell_type": "code",
      "metadata": {
        "colab": {
          "base_uri": "https://localhost:8080/"
        },
        "id": "Khm6DBehdYh-",
        "outputId": "0ffa21c4-036e-4f46-f6d6-b38203e424cc"
      },
      "source": [
        "l2=[]\n",
        "n= int(input(\"Enter a number: \"))\n",
        "print(\"Enter {} elements\".format(n))\n",
        "for i in range(n):\n",
        "  l2.append(input())\n",
        "\n",
        "ele= input(\"Enter an element to search:\")\n",
        "c=0\n",
        "for i in l2:\n",
        "  if ele == i :\n",
        "    c+=1\n",
        "if c==0 :\n",
        "  print(\"Element is not present\")\n",
        "else:\n",
        "  print(\"{0} occurs {1} times\".format(ele,c))\n"
      ],
      "execution_count": 9,
      "outputs": [
        {
          "output_type": "stream",
          "name": "stdout",
          "text": [
            "Enter a number: 2\n",
            "Enter 2 elements\n",
            "a\n",
            "b\n",
            "Enter an element to search:a\n",
            "a occurs 1 times\n"
          ]
        }
      ]
    }
  ]
}